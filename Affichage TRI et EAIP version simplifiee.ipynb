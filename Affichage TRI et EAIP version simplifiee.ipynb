{
 "cells": [
  {
   "cell_type": "markdown",
   "id": "d63e6bea",
   "metadata": {},
   "source": [
    "# Import des librairies nécessaires"
   ]
  },
  {
   "cell_type": "code",
   "execution_count": null,
   "id": "1c463bfd",
   "metadata": {},
   "outputs": [],
   "source": [
    "import json # json5: version 0.9.6, jsonschema: version 4.16.0\n",
    "import pandas as pd # version 1.4.4\n",
    "import geopandas as gpd # version 0.12.2\n",
    "import numpy as np # version 1.21.5\n",
    "from shapely import wkt # version 2.0.0\n",
    "import math # No module found\n",
    "\n",
    "from shapely import Polygon, MultiPolygon, intersection_all, union_all, affinity, LineString, Point, Polygon, BufferCapStyle, BufferJoinStyle, buffer, GeometryCollection # shapely: version 2.0.0\n",
    "from shapely.validation import make_valid # shapely: version 2.0.0\n",
    "import itertools"
   ]
  },
  {
   "cell_type": "code",
   "execution_count": null,
   "id": "3bfe3198",
   "metadata": {},
   "outputs": [],
   "source": [
    "# Pour voir la liste des packages installés:\n",
    "\n",
    "# !pip list\n",
    "\n",
    "# Pour voir quel est la version du package intitulé 'NOM_DU_PACKAGE'\n",
    "# pip show 'NOM_DU_PACKAGE'"
   ]
  },
  {
   "cell_type": "markdown",
   "id": "4f5f857c",
   "metadata": {},
   "source": [
    "# Import des Bases de données"
   ]
  },
  {
   "cell_type": "code",
   "execution_count": null,
   "id": "26b8c0a2",
   "metadata": {},
   "outputs": [],
   "source": [
    "# Bases de données contenant les informations nécessaires sur les TRI du département du Var\n",
    "# selon le type de scénario (Millénal, Centennal, Décennal)\n",
    "Data = pd.read_csv(\"Data.csv\")\n",
    "Data_Dec = pd.read_csv(\"Data_Dec.csv\") # TRI: Scénario Décennal\n",
    "Data_Cent = pd.read_csv(\"Data_Cent.csv\") # TRI: Scénario Centennal\n",
    "Data_Mill = pd.read_csv(\"Data_Mill.csv\") # TRI: Scénario Millénal\n",
    "\n",
    "Data = Data.drop(['Unnamed: 0'], axis=1)\n",
    "Data_Dec = Data_Dec.drop(['Unnamed: 0'], axis=1)\n",
    "Data_Cent = Data_Cent.drop(['Unnamed: 0'], axis=1)\n",
    "Data_Mill = Data_Mill.drop(['Unnamed: 0'], axis=1)\n",
    "\n",
    "# On tansforme le type de dataframe: pandas dataframe -> geopandas dataframe afin de pouvoir travailler\n",
    "# avec des données géographiques en précisant la colonne qui contient ce type de donnée.\n",
    "\n",
    "Data['geometry'] = Data['geometry'].apply(wkt.loads)\n",
    "Data_Dec['geometry'] = Data_Dec['geometry'].apply(wkt.loads)\n",
    "Data_Cent['geometry'] = Data_Cent['geometry'].apply(wkt.loads)\n",
    "Data_Mill['geometry'] = Data_Mill['geometry'].apply(wkt.loads)\n",
    "\n",
    "Data = gpd.GeoDataFrame(Data, geometry='geometry')\n",
    "Data_Dec = gpd.GeoDataFrame(Data_Dec, geometry='geometry')\n",
    "Data_Cent = gpd.GeoDataFrame(Data_Cent, geometry='geometry')\n",
    "Data_Mill = gpd.GeoDataFrame(Data_Mill, geometry='geometry')\n",
    "\n",
    "# On précise le type de projection cartographique associé aux données géographiques:\n",
    "# EPSG 4326, WGS 84\n",
    "Data['geometry'] = Data['geometry'].set_crs('epsg:4326')\n",
    "Data_Dec['geometry'] = Data_Dec['geometry'].set_crs('epsg:4326')\n",
    "Data_Cent['geometry'] = Data_Cent['geometry'].set_crs('epsg:4326')\n",
    "Data_Mill['geometry'] = Data_Mill['geometry'].set_crs('epsg:4326')"
   ]
  },
  {
   "cell_type": "code",
   "execution_count": null,
   "id": "8bbe0e3d",
   "metadata": {},
   "outputs": [],
   "source": [
    "# Base de données contenant les informations nécessaires sur les EAIP\n",
    "# ATTENTION, il faut renseigner le chemin complet avec le nom du fichier \"AZI_EAIP.dbf\" à la fin\n",
    "EAIP = gpd.read_file(\"/Users/guillaumeallemoniere/Documents/Documents/Jupyter_Notebooks/Cartes_Innondations_HAUTE_SAVOIE/AZI_EAIP.dbf\")"
   ]
  },
  {
   "cell_type": "code",
   "execution_count": null,
   "id": "e01cb36e",
   "metadata": {},
   "outputs": [],
   "source": [
    "# On précise le type de projection cartographique associé aux données géographique:\n",
    "# EPSG 3857, Pseudo-Mercator\n",
    "# Puis on le change dans un autre système plus adéquat pour la suite:\n",
    "# EPSG 4326, WGS 84\n",
    "\n",
    "# Set epsg to 3857 (EPSG:3857 - WGS 84 / Pseudo-Mercator)\n",
    "EAIP['geometry'] = EAIP['geometry'].set_crs('epsg:3857')\n",
    "\n",
    "# Move epsg to 4326 (WGS84, spatial reference for the world)\n",
    "EAIP['geometry'] = EAIP['geometry'].to_crs('epsg:4326')"
   ]
  },
  {
   "cell_type": "code",
   "execution_count": null,
   "id": "3bad9917",
   "metadata": {},
   "outputs": [],
   "source": [
    "EAIP.head()"
   ]
  },
  {
   "cell_type": "code",
   "execution_count": null,
   "id": "d56c1d73",
   "metadata": {},
   "outputs": [],
   "source": [
    "DEPARTMENTS = {\n",
    "    '01': 'Ain', \n",
    "    '02': 'Aisne', \n",
    "    '03': 'Allier', \n",
    "    '04': 'Alpes-de-Haute-Provence', \n",
    "    '05': 'Hautes-Alpes',\n",
    "    '06': 'Alpes-Maritimes', \n",
    "    '07': 'Ardèche', \n",
    "    '08': 'Ardennes', \n",
    "    '09': 'Ariège', \n",
    "    '10': 'Aube', \n",
    "    '11': 'Aude',\n",
    "    '12': 'Aveyron', \n",
    "    '13': 'Bouches-du-Rhône', \n",
    "    '14': 'Calvados', \n",
    "    '15': 'Cantal', \n",
    "    '16': 'Charente',\n",
    "    '17': 'Charente-Maritime', \n",
    "    '18': 'Cher', \n",
    "    '19': 'Corrèze', \n",
    "    '2A': 'Corse-du-Sud', \n",
    "    '2B': 'Haute-Corse',\n",
    "    '21': 'Côte-d\\'Or', \n",
    "    '22': 'Côtes-d\\'Armor', \n",
    "    '23': 'Creuse', \n",
    "    '24': 'Dordogne', \n",
    "    '25': 'Doubs', \n",
    "    '26': 'Drôme',\n",
    "    '27': 'Eure', \n",
    "    '28': 'Eure-et-Loir', \n",
    "    '29': 'Finistère', \n",
    "    '30': 'Gard', \n",
    "    '31': 'Haute-Garonne', \n",
    "    '32': 'Gers',\n",
    "    '33': 'Gironde', \n",
    "    '34': 'Hérault', \n",
    "    '35': 'Ille-et-Vilaine', \n",
    "    '36': 'Indre', \n",
    "    '37': 'Indre-et-Loire',\n",
    "    '38': 'Isère', \n",
    "    '39': 'Jura', \n",
    "    '40': 'Landes', \n",
    "    '41': 'Loir-et-Cher', \n",
    "    '42': 'Loire', \n",
    "    '43': 'Haute-Loire',\n",
    "    '44': 'Loire-Atlantique', \n",
    "    '45': 'Loiret', \n",
    "    '46': 'Lot', \n",
    "    '47': 'Lot-et-Garonne', \n",
    "    '48': 'Lozère',\n",
    "    '49': 'Maine-et-Loire', \n",
    "    '50': 'Manche', \n",
    "    '51': 'Marne', \n",
    "    '52': 'Haute-Marne', \n",
    "    '53': 'Mayenne',\n",
    "    '54': 'Meurthe-et-Moselle', \n",
    "    '55': 'Meuse', \n",
    "    '56': 'Morbihan', \n",
    "    '57': 'Moselle', \n",
    "    '58': 'Nièvre', \n",
    "    '59': 'Nord',\n",
    "    '60': 'Oise', \n",
    "    '61': 'Orne', \n",
    "    '62': 'Pas-de-Calais', \n",
    "    '63': 'Puy-de-Dôme', \n",
    "    '64': 'Pyrénées-Atlantiques',\n",
    "    '65': 'Hautes-Pyrénées', \n",
    "    '66': 'Pyrénées-Orientales', \n",
    "    '67': 'Bas-Rhin', \n",
    "    '68': 'Haut-Rhin', \n",
    "    '69': 'Rhône',\n",
    "    '70': 'Haute-Saône', \n",
    "    '71': 'Saône-et-Loire', \n",
    "    '72': 'Sarthe', \n",
    "    '73': 'Savoie', \n",
    "    '74': 'Haute-Savoie',\n",
    "    '75': 'Paris', \n",
    "    '76': 'Seine-Maritime', \n",
    "    '77': 'Seine-et-Marne', \n",
    "    '78': 'Yvelines', \n",
    "    '79': 'Deux-Sèvres',\n",
    "    '80': 'Somme', \n",
    "    '81': 'Tarn', \n",
    "    '82': 'Tarn-et-Garonne', \n",
    "    '83': 'Var', \n",
    "    '84': 'Vaucluse', \n",
    "    '85': 'Vendée',\n",
    "    '86': 'Vienne', \n",
    "    '87': 'Haute-Vienne', \n",
    "    '88': 'Vosges', \n",
    "    '89': 'Yonne', \n",
    "    '90': 'Territoire de Belfort',\n",
    "    '91': 'Essonne', \n",
    "    '92': 'Hauts-de-Seine', \n",
    "    '93': 'Seine-Saint-Denis', \n",
    "    '94': 'Val-de-Marne', \n",
    "    '95': 'Val-d\\'Oise',\n",
    "    '971': 'Guadeloupe', \n",
    "    '972': 'Martinique', \n",
    "    '973': 'Guyane', \n",
    "    '974': 'La Réunion', \n",
    "    '976': 'Mayotte',\n",
    "}"
   ]
  },
  {
   "cell_type": "code",
   "execution_count": null,
   "id": "16847153",
   "metadata": {},
   "outputs": [],
   "source": [
    "departements = dict(zip(list(DEPARTMENTS.values()), list(DEPARTMENTS.keys())))\n",
    "\n",
    "departements"
   ]
  },
  {
   "cell_type": "code",
   "execution_count": null,
   "id": "8eb1623f",
   "metadata": {},
   "outputs": [],
   "source": [
    "nom_departement = input('Quel département voulez-vous étudier ?')"
   ]
  },
  {
   "cell_type": "code",
   "execution_count": null,
   "id": "e99bb3ca",
   "metadata": {},
   "outputs": [],
   "source": [
    "# On rajoute une colonne précisant le numéro du département pour chaque ligne\n",
    "# Ensuite, on choisit le département qui nous intéresse en sélectionnant son numéro (83 pour le Var).\n",
    "\n",
    "def departement(code):\n",
    "    return code[0:2]\n",
    "\n",
    "EAIP['DEPTMT'] = list(map(departement,EAIP['INSEE_COM']))\n",
    "\n",
    "EAIP_Dep = EAIP.loc[EAIP['DEPTMT']==departements[nom_departement],:].copy()\n",
    "\n",
    "EAIP_Dep.head()"
   ]
  },
  {
   "cell_type": "markdown",
   "id": "3b6a025d",
   "metadata": {},
   "source": [
    "# Identification de polygones aberrants parmi ceux du scénario décennal."
   ]
  },
  {
   "cell_type": "markdown",
   "id": "6c74dd0b",
   "metadata": {},
   "source": [
    "Parmis les polygones des bases TRI nous souhaitons savoir s'il existe des polygones du scénario décennal qui ne sont pas couverts par ceux du scénario centennal. Auquel cas cela signifie qu'on est en présence de données (polygones en l'occurence) aberrantes.\n",
    "\n",
    "Pour repérer ces polygones aberrants on va faire l'union des polygones du scénario centennal puis voir quels sont les polygones qui sont entièrement inclus dans cette union. Ceux qui ne le sont pas seront alors identifiés comme étant des polygones aberrants.\n",
    "\n",
    "Pour pouvoir faire toutes ces opérations (union de polygones et autres) il faudra s'assurer que ces polygones soient valides.\n",
    "on tiendra compte du fait qu'il existe des polygones et des multipolygones. Il faudra donc distinguer ces cas."
   ]
  },
  {
   "cell_type": "markdown",
   "id": "7c35585e",
   "metadata": {},
   "source": [
    "## Fonctions à utiliser pour travailler sur les polygones et multipolygones"
   ]
  },
  {
   "cell_type": "code",
   "execution_count": null,
   "id": "b7edb689",
   "metadata": {},
   "outputs": [],
   "source": [
    "def polygones_du_multipolygone(Multipolygon):\n",
    "    return list(Multipolygon.geoms)"
   ]
  },
  {
   "cell_type": "code",
   "execution_count": null,
   "id": "ac28634e",
   "metadata": {},
   "outputs": [],
   "source": [
    "def polygon_valid(polygon):\n",
    "    if (polygon.geom_type==\"MultiPolygon\"):\n",
    "        return union_all(list(map(polygon_valid,polygon.geoms)))\n",
    "    else:\n",
    "        if polygon.is_valid==True:\n",
    "            return polygon\n",
    "        else:\n",
    "            return make_valid(polygon)"
   ]
  },
  {
   "cell_type": "code",
   "execution_count": null,
   "id": "c92c1978",
   "metadata": {},
   "outputs": [],
   "source": [
    "def check_polygon_valid(polygon):\n",
    "    if (polygon.geom_type==\"MultiPolygon\"):\n",
    "        return list(map(check_polygon_valid,polygon.geoms))\n",
    "    else:\n",
    "        return polygon.is_valid"
   ]
  },
  {
   "cell_type": "markdown",
   "id": "be2dd42b",
   "metadata": {},
   "source": [
    "## Union des polygones du scénario centennal"
   ]
  },
  {
   "cell_type": "markdown",
   "id": "46097c89",
   "metadata": {},
   "source": [
    "### On sépare les polygones des multipolygones pour les traiter distinctement"
   ]
  },
  {
   "cell_type": "code",
   "execution_count": null,
   "id": "676d8d4c",
   "metadata": {},
   "outputs": [],
   "source": [
    "Data_Cent_Multi = Data_Cent.loc[Data_Cent[\"geometry\"].geom_type == \"MultiPolygon\",].copy()"
   ]
  },
  {
   "cell_type": "code",
   "execution_count": null,
   "id": "7a35f902",
   "metadata": {},
   "outputs": [],
   "source": [
    "Data_Cent_Poly = Data_Cent.loc[Data_Cent[\"geometry\"].geom_type == \"Polygon\",].copy()"
   ]
  },
  {
   "cell_type": "markdown",
   "id": "3a351d68",
   "metadata": {},
   "source": [
    "#### On traite d'abord les multipolygones"
   ]
  },
  {
   "cell_type": "code",
   "execution_count": null,
   "id": "03820814",
   "metadata": {},
   "outputs": [],
   "source": [
    "# On extrait les polygones des multipolygones\n",
    "mult_poly = sum(list(map(polygones_du_multipolygone,Data_Cent_Multi[\"geometry\"])),[])\n",
    "\n",
    "# On fait en sorte que ces polygones soient valides. Ce qui est nécessaire pour pouvoir faire une union \n",
    "# de plusieurs polygones par la suite.\n",
    "liste_mult_valide = list(map(polygon_valid,mult_poly))"
   ]
  },
  {
   "cell_type": "markdown",
   "id": "00d0c93b",
   "metadata": {},
   "source": [
    "#### On traite ensuite les polygones simples"
   ]
  },
  {
   "cell_type": "code",
   "execution_count": null,
   "id": "85188416",
   "metadata": {},
   "outputs": [],
   "source": [
    "# On fait en sorte que tous les polygones de la liste Data_Cent_Poly[\"geometry\"] soient valides.\n",
    "# Ce qui est nécessaire pour pouvoir faire une union de plusieurs polygones par la suite.\n",
    "\n",
    "liste_poly_valide = list(map(polygon_valid,Data_Cent_Poly[\"geometry\"]))"
   ]
  },
  {
   "cell_type": "markdown",
   "id": "f2907530",
   "metadata": {},
   "source": [
    "### On a fait en sorte que tous les polygones et multipolygones soient valides. Ce qui va nous permettre de faire une union de tous ces polygones."
   ]
  },
  {
   "cell_type": "code",
   "execution_count": null,
   "id": "29ff0322",
   "metadata": {},
   "outputs": [],
   "source": [
    "union_cent = union_all(liste_mult_valide+liste_poly_valide)"
   ]
  },
  {
   "cell_type": "markdown",
   "id": "8b6377cb",
   "metadata": {},
   "source": [
    "## création d'une liste contenant les polygones du scénario décénale. On s'assure que ces polygones soient valides."
   ]
  },
  {
   "cell_type": "markdown",
   "id": "341066a5",
   "metadata": {},
   "source": [
    "### On traite les polygones simples car il n'y a pas de multipolygones dans le scénario décénale"
   ]
  },
  {
   "cell_type": "code",
   "execution_count": null,
   "id": "ee6a26a1",
   "metadata": {},
   "outputs": [],
   "source": [
    "Data_Dec_Multi = Data_Dec.loc[Data_Dec[\"geometry\"].geom_type == \"MultiPolygon\",].copy()"
   ]
  },
  {
   "cell_type": "code",
   "execution_count": null,
   "id": "07c2bbb4",
   "metadata": {},
   "outputs": [],
   "source": [
    "Data_Dec_Poly = Data_Dec.loc[Data_Dec[\"geometry\"].geom_type == \"Polygon\",].copy()"
   ]
  },
  {
   "cell_type": "markdown",
   "id": "0645bccc",
   "metadata": {},
   "source": [
    "#### On traite d'abord les multipolygones"
   ]
  },
  {
   "cell_type": "code",
   "execution_count": null,
   "id": "08e024dd",
   "metadata": {},
   "outputs": [],
   "source": [
    "# On extrait les polygones des multipolygones\n",
    "mult_poly = sum(list(map(polygones_du_multipolygone,Data_Dec_Multi[\"geometry\"])),[])\n",
    "\n",
    "# On fait en sorte que ces polygones soient valides. Ce qui est nécessaire pour pouvoir faire une union \n",
    "# de plusieurs polygones par la suite.\n",
    "liste_mult_valide = list(map(polygon_valid,mult_poly))"
   ]
  },
  {
   "cell_type": "markdown",
   "id": "56915e6e",
   "metadata": {},
   "source": [
    "#### On traite ensuite les polygones simples"
   ]
  },
  {
   "cell_type": "code",
   "execution_count": null,
   "id": "476fadb3",
   "metadata": {},
   "outputs": [],
   "source": [
    "# On fait en sorte que tous les polygones de la liste Data_Cent_Poly[\"geometry\"] soient valides.\n",
    "# Ce qui est nécessaire pour pouvoir faire une union de plusieurs polygones par la suite.\n",
    "\n",
    "liste_poly_valide = list(map(polygon_valid,Data_Dec_Poly[\"geometry\"]))"
   ]
  },
  {
   "cell_type": "code",
   "execution_count": null,
   "id": "08cbd3d2",
   "metadata": {},
   "outputs": [],
   "source": [
    "liste_poly_valide_Dec = liste_mult_valide + liste_poly_valide"
   ]
  },
  {
   "cell_type": "markdown",
   "id": "88f1d640",
   "metadata": {},
   "source": [
    "##### On a fait en sorte que tous les polygones de la liste Data_Dec[\"geometry] soient valides. On va pouvoir maintenant vérifier quels polygones du scénario décénnal sont complètement inclusdans l'union des polygones du scénario centennal grâce à la fonction ci-dessous."
   ]
  },
  {
   "cell_type": "code",
   "execution_count": null,
   "id": "4107fd12",
   "metadata": {},
   "outputs": [],
   "source": [
    "'''def contains_polygones(polygon):\n",
    "    return union_cent.contains(polygon)\n",
    "    \n",
    "contain_liste = list(map(contains_polygones,gpd.GeoSeries(liste_poly_valide_Dec)))\n",
    "\n",
    "contain_liste'''\n",
    "\n",
    "# ATTENTION la commande prend du temps (15-20 min en moyenne)\n",
    "\n",
    "# Ici on peut effin vérifier quels sont les polygons (valides) du scénario décennal contenus dans ceux du\n",
    "# scénario centennal. Néanmoins, cette méthode prend trop de temps à être implémentée. C'est pour cette raison qu'on\n",
    "# a choisi de ne pas le faire mais de garder cette partie en commentaires."
   ]
  },
  {
   "cell_type": "markdown",
   "id": "4e25909c",
   "metadata": {},
   "source": [
    "# Modification de la base EAIP avant visualisation sur carte. On s'assure notamment que tous les polygones de cette base soient valides."
   ]
  },
  {
   "cell_type": "code",
   "execution_count": null,
   "id": "ccaf14b0",
   "metadata": {},
   "outputs": [],
   "source": [
    "EAIP_Dep[\"geometry\"]"
   ]
  },
  {
   "cell_type": "code",
   "execution_count": null,
   "id": "ba594b32",
   "metadata": {},
   "outputs": [],
   "source": [
    "liste_poly_valide_EAIP = list(map(polygon_valid,EAIP_Dep[\"geometry\"]))"
   ]
  },
  {
   "cell_type": "code",
   "execution_count": null,
   "id": "b6917c84",
   "metadata": {},
   "outputs": [],
   "source": [
    "# On crée un GeometryCollection à partir d'une liste de polygones simples (et valides) passée dans les paramètres de la fonction.\n",
    "\n",
    "# GeometryCollection\n",
    "\n",
    "def create_GeometryCollection(liste_poly):\n",
    "    if type(liste_poly) != list:\n",
    "        return liste_poly\n",
    "    else:\n",
    "        return union_all(liste_poly)"
   ]
  },
  {
   "cell_type": "code",
   "execution_count": null,
   "id": "f756c288",
   "metadata": {},
   "outputs": [],
   "source": [
    "Multi_Poly_Valide_EAIP = list(map(create_GeometryCollection,liste_poly_valide_EAIP))"
   ]
  },
  {
   "cell_type": "code",
   "execution_count": null,
   "id": "e9e04b1f",
   "metadata": {},
   "outputs": [],
   "source": [
    "EAIP_Dep.head()"
   ]
  },
  {
   "cell_type": "code",
   "execution_count": null,
   "id": "6b8dd96b",
   "metadata": {},
   "outputs": [],
   "source": [
    "def is_true(liste):\n",
    "    if type(liste) == bool:\n",
    "        return liste\n",
    "    else:\n",
    "        return all(liste)"
   ]
  },
  {
   "cell_type": "code",
   "execution_count": null,
   "id": "37b05c23",
   "metadata": {},
   "outputs": [],
   "source": [
    "all(list(map(is_true,list(map(check_polygon_valid,EAIP_Dep[\"geometry\"])))))"
   ]
  },
  {
   "cell_type": "code",
   "execution_count": null,
   "id": "9f57c238",
   "metadata": {},
   "outputs": [],
   "source": [
    "# On crée une liste de multipolygones de type GeoSeries en précisant le système de projection\n",
    "# associé à celui-ci pour la colonne contennant les multipolygons.\n",
    "\n",
    "EAIP_Dep[\"geometry\"] = list(gpd.GeoSeries(Multi_Poly_Valide_EAIP, crs=\"EPSG:4326\"))"
   ]
  },
  {
   "cell_type": "code",
   "execution_count": null,
   "id": "85610546",
   "metadata": {},
   "outputs": [],
   "source": [
    "EAIP_Dep"
   ]
  },
  {
   "cell_type": "code",
   "execution_count": null,
   "id": "4f33968a",
   "metadata": {},
   "outputs": [],
   "source": [
    "all(list(map(is_true,list(map(check_polygon_valid,EAIP_Dep[\"geometry\"])))))\n",
    "\n",
    "# Maintenant, on est sûr que les multipolygones des EAIP sont bien valides.\n",
    "# On va pouvoir exporter cette base de données au format .json pour l'afficher ensuite sur une carte avec les TRI."
   ]
  },
  {
   "cell_type": "markdown",
   "id": "0f4d6805",
   "metadata": {},
   "source": [
    "# Réduction du nombre de polygones des scénarios Décénnal, Centennal et Millénal"
   ]
  },
  {
   "cell_type": "markdown",
   "id": "344aebcb",
   "metadata": {},
   "source": [
    "On élimine les polygones avec la superficie la plus faible (on fixe un seuil) afin que les cartes à afficher ne soient\n",
    "pas trop lourdes."
   ]
  },
  {
   "cell_type": "code",
   "execution_count": null,
   "id": "a8641344",
   "metadata": {},
   "outputs": [],
   "source": [
    "list(map(check_polygon_valid,Data_Dec[\"geometry\"]))"
   ]
  },
  {
   "cell_type": "code",
   "execution_count": null,
   "id": "8b3028a0",
   "metadata": {},
   "outputs": [],
   "source": [
    "liste_Data_Dec = list(map(polygon_valid,Data_Dec[\"geometry\"]))\n",
    "Liste_Poly_Valide_Data_Dec = list(map(create_GeometryCollection,liste_Data_Dec))"
   ]
  },
  {
   "cell_type": "code",
   "execution_count": null,
   "id": "2223fb02",
   "metadata": {},
   "outputs": [],
   "source": [
    "Data_Dec[\"geometry\"] = list(gpd.GeoSeries(Liste_Poly_Valide_Data_Dec, crs=\"EPSG:4326\"))\n",
    "\n",
    "Data_Dec[\"Area Geometry\"] = Data_Dec[\"geometry\"].area\n",
    "Data_Dec = Data_Dec.sort_values(by=['Area Geometry'], ascending=False)\n",
    "Data_Dec[\"index\"] = list(range(len(Data_Dec)))\n",
    "Data_Dec = Data_Dec.set_index(\"index\")"
   ]
  },
  {
   "cell_type": "code",
   "execution_count": null,
   "id": "780a5b34",
   "metadata": {},
   "outputs": [],
   "source": [
    "Data_Dec[\"Area Geometry Pourcentage\"] = (Data_Dec[\"Area Geometry\"]/Data_Dec[\"Area Geometry\"][0])*100\n",
    "\n",
    "# On élimine les polygones avec une superficie inférieure à 1% de celle du polygone ayant la superficie\n",
    "# la plus importante.\n",
    "Data_Dec = Data_Dec.loc[Data_Dec[\"Area Geometry Pourcentage\"]>=1,]"
   ]
  },
  {
   "cell_type": "code",
   "execution_count": null,
   "id": "57504ba5",
   "metadata": {},
   "outputs": [],
   "source": [
    "# Cette méthode permet du repérer les indexes des polygones contenus dans d'autres polygones afin de pouvoir les\n",
    "# supprimer. Néanmons, cette méthode est beaucoup trop longue en temps de calcul à être implémentée.\n",
    "# C'est pourquoi, on va la laisser de côté en commentaires.\n",
    "\n",
    "\n",
    "'''def est_contenu(Polygon):\n",
    "    return list((Data_Dec[\"geometry\"].contains(Polygon) & np.invert(Data_Dec[\"geometry\"].geom_equals(Polygon))).loc[lambda x:x != False].index)\n",
    "\n",
    "liste_indexes_a_supprimer = list(map(est_contenu,list(Data_Dec[\"geometry\"])))\n",
    "\n",
    "liste_indexes_a_garder = list(set(Data_Dec.index) - set(list(itertools.chain.from_iterable(liste_indexes_a_supprimer))))\n",
    "\n",
    "Data_Dec = Data_Dec.loc[liste_indexes_a_garder,]\n",
    "'''\n"
   ]
  },
  {
   "cell_type": "code",
   "execution_count": null,
   "id": "6d0a6ca3",
   "metadata": {},
   "outputs": [],
   "source": [
    "liste_Data_Cent = list(map(polygon_valid,Data_Cent[\"geometry\"]))\n",
    "Liste_Poly_Valide_Data_Cent = list(map(create_GeometryCollection,liste_Data_Cent))"
   ]
  },
  {
   "cell_type": "code",
   "execution_count": null,
   "id": "4819d14d",
   "metadata": {},
   "outputs": [],
   "source": [
    "Data_Cent[\"geometry\"] = list(gpd.GeoSeries(Liste_Poly_Valide_Data_Cent, crs=\"EPSG:4326\"))\n",
    "\n",
    "Data_Cent[\"Area Geometry\"] = Data_Cent[\"geometry\"].area\n",
    "Data_Cent = Data_Cent.sort_values(by=['Area Geometry'], ascending=False)\n",
    "Data_Cent[\"index\"] = list(range(len(Data_Cent)))\n",
    "Data_Cent = Data_Cent.set_index(\"index\")"
   ]
  },
  {
   "cell_type": "code",
   "execution_count": null,
   "id": "ce7e36ad",
   "metadata": {},
   "outputs": [],
   "source": [
    "Data_Cent[\"Area Geometry Pourcentage\"] = (Data_Cent[\"Area Geometry\"]/Data_Cent[\"Area Geometry\"][0])*100\n",
    "\n",
    "# On élimine les polygones avec une superficie inférieure à 1% de celle du polygone ayant la superficie\n",
    "# la plus importante.\n",
    "Data_Cent = Data_Cent.loc[Data_Cent[\"Area Geometry Pourcentage\"]>=1,]"
   ]
  },
  {
   "cell_type": "code",
   "execution_count": null,
   "id": "a3943cc7",
   "metadata": {},
   "outputs": [],
   "source": [
    "liste_Data_Mill = list(map(polygon_valid,Data_Mill[\"geometry\"]))\n",
    "Liste_Poly_Valide_Data_Mill = list(map(create_GeometryCollection,liste_Data_Mill))"
   ]
  },
  {
   "cell_type": "code",
   "execution_count": null,
   "id": "bf052c32",
   "metadata": {},
   "outputs": [],
   "source": [
    "Data_Mill[\"geometry\"] = list(gpd.GeoSeries(Liste_Poly_Valide_Data_Mill, crs=\"EPSG:4326\"))\n",
    "\n",
    "Data_Mill[\"Area Geometry\"] = Data_Mill[\"geometry\"].area\n",
    "Data_Mill = Data_Mill.sort_values(by=['Area Geometry'], ascending=False)\n",
    "Data_Mill[\"index\"] = list(range(len(Data_Mill)))\n",
    "Data_Mill = Data_Mill.set_index(\"index\")"
   ]
  },
  {
   "cell_type": "code",
   "execution_count": null,
   "id": "b812c8d2",
   "metadata": {},
   "outputs": [],
   "source": [
    "Data_Mill[\"Area Geometry Pourcentage\"] = (Data_Mill[\"Area Geometry\"]/Data_Mill[\"Area Geometry\"][0])*100\n",
    "\n",
    "# On élimine les polygones avec une superficie inférieure à 1% de celle du polygone ayant la superficie\n",
    "# la plus importante.\n",
    "Data_Mill = Data_Mill.loc[Data_Mill[\"Area Geometry Pourcentage\"]>=1,]"
   ]
  },
  {
   "cell_type": "code",
   "execution_count": null,
   "id": "295a5fe7",
   "metadata": {},
   "outputs": [],
   "source": [
    "# On exporte le data frame EAIP du Var au format .json\n",
    "\n",
    "EAIP_Dep.to_file('EAIP_Dep.json', driver=\"GeoJSON\")\n",
    "\n",
    "# On exporte le data frame Data_Dec du Var au format .json\n",
    "\n",
    "Data_Dec.to_file('Data_Dec.json', driver=\"GeoJSON\")\n",
    "\n",
    "# On exporte le data frame Data_Cent du Var au format .json\n",
    "\n",
    "Data_Cent.to_file('Data_Cent.json', driver=\"GeoJSON\")\n",
    "\n",
    "# On exporte le data frame Data_Mill du Var au format .json\n",
    "\n",
    "Data_Mill.to_file('Data_Mill.json', driver=\"GeoJSON\")"
   ]
  },
  {
   "cell_type": "code",
   "execution_count": null,
   "id": "5ecf4bd5",
   "metadata": {},
   "outputs": [],
   "source": [
    "Data_Dec = Data_Dec.reset_index(drop=True)\n",
    "Data_Dec.head(2)"
   ]
  },
  {
   "cell_type": "markdown",
   "id": "0b6c8fdb",
   "metadata": {},
   "source": [
    "# Visualisation des TRI et des EAIP sur carte pour le département du Var"
   ]
  },
  {
   "cell_type": "code",
   "execution_count": null,
   "id": "bb6bdb7b",
   "metadata": {},
   "outputs": [],
   "source": [
    "import folium # version 0.14.0\n",
    "\n",
    "m = folium.Map(location=[list(Data_Dec.loc[[0],\"geometry\"][0].centroid.coords)[0][1], list(Data_Dec.loc[[0],\"geometry\"][0].centroid.coords)[0][0]], tiles=\"https://server.arcgisonline.com/ArcGIS/rest/services/World_Topo_Map/MapServer/tile/{z}/{y}/{x}\", attr = \"Tiles &copy; Esri &mdash; Esri, DeLorme, NAVTEQ, TomTom, Intermap, iPC, USGS, FAO, NPS, NRCAN\", zoom_start=10) # Le paramère \"location\" permet de\n",
    "                                                                                   # préciser les coordonnées GPS du\n",
    "                                                                                   # centre de la carte à afficher ([Latitude,Longitude])\n",
                                                                                        # Lien Leaflet provider : https://leaflet-extras.github.io/leaflet-providers/preview/   \n",
    "\n",
    "\n",
    "c_10_bordersStyle = {\n",
    "    'color': 'black',\n",
    "    'weight': 1,\n",
    "    'fillColor': '#EFF3FF',\n",
    "    'fillOpacity': 0.7\n",
    "}\n",
    "\n",
    "c_10 = folium.GeoJson(\n",
    "    data=(open(\"Data_Dec.json\", 'r').read()),\n",
    "    name=\"Décénale\",\n",
    "    style_function=lambda x: c_10_bordersStyle)\n",
    "\n",
    "c_10.add_to(m)\n",
    "\n",
    "\n",
    "c_100_bordersStyle = {\n",
    "    'color': 'black',\n",
    "    'weight': 1,\n",
    "    'fillColor': '#6AAED4',\n",
    "    'fillOpacity': 0.7\n",
    "}\n",
    "\n",
    "c_100 = folium.GeoJson(\n",
    "    data=(open(\"Data_Cent.json\", 'r').read()),\n",
    "    name=\"Centenale\",\n",
    "    style_function=lambda x: c_100_bordersStyle)\n",
    "\n",
    "c_100.add_to(m)\n",
    "\n",
    "\n",
    "\n",
    "c_1000_bordersStyle = {\n",
    "    'color': 'black',\n",
    "    'weight': 1,\n",
    "    'fillColor': '#06519A',\n",
    "    'fillOpacity': 0.7\n",
    "}\n",
    "\n",
    "c_1000 = folium.GeoJson(\n",
    "    data=(open(\"Data_Mill.json\", 'r').read()),\n",
    "    name=\"Millénale\",\n",
    "    style_function=lambda x: c_1000_bordersStyle)\n",
    "\n",
    "c_1000.add_to(m)\n",
    "\n",
    "\n",
    "c_EAIP_bordersStyle = {\n",
    "    'color': 'black',\n",
    "    'weight': 1,\n",
    "    'fillColor': '#BB0B0B',\n",
    "    'fillOpacity': 0.7\n",
    "}\n",
    "\n",
    "c_EAIP = folium.GeoJson(\n",
    "    data=(open(\"EAIP_Dep.json\", 'r').read()),\n",
    "    name=\"EAIP (Emprise Maximale)\",\n",
    "    style_function=lambda x: c_EAIP_bordersStyle)\n",
    "\n",
    "c_EAIP.add_to(m)\n",
    "\n",
    "\n",
    "# Les 3 lignes suivantes (folium.GeoJsonTooltip) ne fonctionnent pas pour des formes géométriques\n",
    "# du type 'GeometryCollection'. C'est pourquoi elles sont mises en commentaires. Sinon il y a des erreures\n",
    "# d'affichage de la carte.\n",
    "# Par contre si on charche à afficher des polygones dont le type est différent de 'GeometryCollection'\n",
    "# alors là on peut les utiliser pour enrichir la carte.\n",
    "\n",
    "'''\n",
    "# and finally adding a tooltip/hover to the geojson file\n",
    "folium.GeoJsonTooltip(['ht_min', 'ht_max', 'uuid', 'cours_deau']).add_to(c_10)\n",
    "\n",
    "# and finally adding a tooltip/hover to the geojson file\n",
    "folium.GeoJsonTooltip(['ht_min', 'ht_max', 'uuid', 'cours_deau']).add_to(c_100)\n",
    "\n",
    "# and finally adding a tooltip/hover to the geojson file\n",
    "folium.GeoJsonTooltip(['ht_min', 'ht_max', 'uuid', 'cours_deau']).add_to(c_1000)'''\n",
    "\n",
    "# and finally adding a tooltip/hover to the geojson file\n",
    "folium.GeoJsonTooltip(['NOM_M']).add_to(c_EAIP)\n",
    "\n",
    "\n",
    "\n",
    "folium.LayerControl().add_to(m)"
   ]
  },
  {
   "cell_type": "code",
   "execution_count": null,
   "id": "516d5a6d",
   "metadata": {},
   "outputs": [],
   "source": [
    "# Voir le site https://towardsdatascience.com/how-to-step-up-your-folium-choropleth-map-skills-17cf6de7c6fe\n",
    "# pour des explications sur cette partie avec du code HTML\n",
    "\n",
    "# We import the required library:\n",
    "from branca.element import Template, MacroElement # branca: version 0.6.0\n",
    "\n",
    "template = \"\"\"\n",
    "{% macro html(this, kwargs) %}\n",
    "\n",
    "<!doctype html>\n",
    "<html lang=\"en\">\n",
    "<head>\n",
    "  <meta charset=\"utf-8\">\n",
    "  <meta name=\"viewport\" content=\"width=device-width, initial-scale=1\">\n",
    "  <title>jQuery UI Draggable - Default functionality</title>\n",
    "  <link rel=\"stylesheet\" href=\"//code.jquery.com/ui/1.12.1/themes/base/jquery-ui.css\">\n",
    "\n",
    "  <script src=\"https://code.jquery.com/jquery-1.12.4.js\"></script>\n",
    "  <script src=\"https://code.jquery.com/ui/1.12.1/jquery-ui.js\"></script>\n",
    "  \n",
    "  <script>\n",
    "  $( function() {\n",
    "    $( \"#maplegend\" ).draggable({\n",
    "                    start: function (event, ui) {\n",
    "                        $(this).css({\n",
    "                            right: \"auto\",\n",
    "                            top: \"auto\",\n",
    "                            bottom: \"auto\"\n",
    "                        });\n",
    "                    }\n",
    "                });\n",
    "});\n",
    "\n",
    "  </script>\n",
    "</head>\n",
    "<body>\n",
    "\n",
    " \n",
    "<div id='maplegend' class='maplegend' \n",
    "    style='position: absolute; z-index:9999; border:2px solid grey; background-color:rgba(255, 255, 255, 0.8);\n",
    "     border-radius:6px; padding: 10px; font-size:14px; right: 20px; bottom: 20px;'>\n",
    "     \n",
    "<div class='legend-title'>Périodes de retour</div>\n",
    "<div class='legend-scale'>\n",
    "  <ul class='legend-labels'>\n",
    "    <li><span style='background:#06519A;opacity:1;'></span>1000 ans (TRI)</li>\n",
    "    <li><span style='background:#6AAED4;opacity:1;'></span>100 ans (TRI)</li>\n",
    "    <li><span style='background:#EFF3FF;opacity:1;'></span>10 ans (TRI)</li>\n",
    "    <li><span style='background:#BB0B0B;opacity:1;'></span>1000 ans (EAIP)</li>\n",
    "  </ul>\n",
    "</div>\n",
    "</div>\n",
    "\n",
    "</body>\n",
    "</html>\n",
    "\n",
    "<style type='text/css'>\n",
    "  .maplegend .legend-title {\n",
    "    text-align: left;\n",
    "    margin-bottom: 5px;\n",
    "    font-weight: bold;\n",
    "    font-size: 90%;\n",
    "    }\n",
    "  .maplegend .legend-scale ul {\n",
    "    margin: 0;\n",
    "    margin-bottom: 5px;\n",
    "    padding: 0;\n",
    "    float: left;\n",
    "    list-style: none;\n",
    "    }\n",
    "  .maplegend .legend-scale ul li {\n",
    "    font-size: 80%;\n",
    "    list-style: none;\n",
    "    margin-left: 0;\n",
    "    line-height: 18px;\n",
    "    margin-bottom: 2px;\n",
    "    }\n",
    "  .maplegend ul.legend-labels li span {\n",
    "    display: block;\n",
    "    float: left;\n",
    "    height: 16px;\n",
    "    width: 30px;\n",
    "    margin-right: 5px;\n",
    "    margin-left: 0;\n",
    "    border: 1px solid #999;\n",
    "    }\n",
    "  .maplegend .legend-source {\n",
    "    font-size: 80%;\n",
    "    color: #777;\n",
    "    clear: both;\n",
    "    }\n",
    "  .maplegend a {\n",
    "    color: #777;\n",
    "    }\n",
    "</style>\n",
    "\n",
    "{% endmacro %}\"\"\"\n",
    "\n",
    "macro = MacroElement()\n",
    "macro._template = Template(template)\n",
    "\n",
    "m.get_root().add_child(macro)\n",
    "\n",
    "# m"
   ]
  },
  {
   "cell_type": "code",
   "execution_count": null,
   "id": "bd7a39b6",
   "metadata": {},
   "outputs": [],
   "source": [
    "# Exporting the map in HTML format\n",
    "nom = \"Carte_Inondations_\"+nom_departement+\"_Geojson_EAIP.html\"\n",
    "m.save(nom)"
   ]
  },
  {
   "cell_type": "markdown",
   "id": "fb1b56ac",
   "metadata": {},
   "source": [
    "Sur la carte on voit que les EAIP ne possèdent pas de niveaux selon le scénario (Millénal, Centennal, Décennal) comme les TRI.\n",
    "\n",
    "En fait, l'emprise des EAIP correspond au scénario millénal. Pour pouvoir visualiser les scénarios centennal et décennal on va procéder comme suit.\n",
    "\n",
    "On va calculer le rapport des aires des scénarios millénal et centennal puis millénal et décennal des polygones des TRI. On pourra en déduire ensuite les aires/superficies couvertes par les scénarios centennal et décennal pour l'ensemble des polygones/multipolygones des EAIP.\n",
    "\n",
    "Pour calculer l'aire d'un scénario donné, on réalise l'union des polygones de ce scénario grâce à la fonction union_all(). Ensuite, on calcul l'aire de l'union grâce à la fonction .area\n",
    "\n",
    "Pour chaque scénario, on va faire l'union des polygones par cours d'eau et calculer l'aire associée. Ensuite on calculera le rapport aire_millénal/aire_centennal et aire_millénal/aire_décennal pour chacun des cours d'eau en question. Enfin, on calculera la moyenne de ces rapports (moyenne sur l'ensemble des cours d'eau) pour avoir les rapports des aires qui nous servirons à en déduire les aires des scénarios centennal et décennal pour les EAIP."
   ]
  },
  {
   "cell_type": "markdown",
   "id": "44e25c2a",
   "metadata": {},
   "source": [
    "# Union des polygones du scénario décennal par cours d'eau"
   ]
  },
  {
   "cell_type": "code",
   "execution_count": null,
   "id": "49d3c8fe",
   "metadata": {},
   "outputs": [],
   "source": [
    "liste_cours_deau = list(Data_Dec['cours_deau'].unique())"
   ]
  },
  {
   "cell_type": "code",
   "execution_count": null,
   "id": "c65433eb",
   "metadata": {},
   "outputs": [],
   "source": [
    "liste_cours_deau"
   ]
  },
  {
   "cell_type": "code",
   "execution_count": null,
   "id": "374cace8",
   "metadata": {},
   "outputs": [],
   "source": [
    "# ICI, ON PEUT CHOISIR QUELS COURS D'EAU ON ELIMINE\n",
    "\n",
    "liste_cours_deau.remove(\"arve\")\n",
    "liste_cours_deau.remove(\"Laudon\")\n",
    "liste_cours_deau.remove(\"Eau Morte\")\n",
    "liste_cours_deau.remove(\"Giffre\")"
   ]
  },
  {
   "cell_type": "code",
   "execution_count": null,
   "id": "740f04b9",
   "metadata": {},
   "outputs": [],
   "source": [
    "liste_cours_deau"
   ]
  },
  {
   "cell_type": "code",
   "execution_count": null,
   "id": "a2073505",
   "metadata": {},
   "outputs": [],
   "source": [
    "dico_Dec_Aire = {}\n",
    "dico_Cent_Aire = {}\n",
    "dico_Mill_Aire = {}\n",
    "\n",
    "dico_Ratio_Mill_Dec = {}\n",
    "dico_Ratio_Mill_Cent = {}"
   ]
  },
  {
   "cell_type": "code",
   "execution_count": null,
   "id": "4b325d96",
   "metadata": {},
   "outputs": [],
   "source": [
    "for i in range(len(liste_cours_deau)):\n",
    "    Data_Dec_Cours_Deau = Data_Dec.loc[Data_Dec['cours_deau']==liste_cours_deau[i],].copy()\n",
    "    liste_poly_valide_Dec_Cours_Deau = list(map(polygon_valid,Data_Dec_Cours_Deau[\"geometry\"]))\n",
    "    Union_Dec_Cours_Deau = union_all(liste_poly_valide_Dec_Cours_Deau)\n",
    "    Union_Dec_Cours_Deau_Aire = Union_Dec_Cours_Deau.area\n",
    "    dico_Dec_Aire[\"Aire_\"+liste_cours_deau[i]]=Union_Dec_Cours_Deau_Aire\n",
    "    \n",
    "    Data_Cent_Cours_Deau = Data_Cent.loc[Data_Cent['cours_deau']==liste_cours_deau[i],].copy()\n",
    "    liste_poly_valide_Cent_Cours_Deau = list(map(polygon_valid,Data_Cent_Cours_Deau[\"geometry\"]))\n",
    "    Union_Cent_Cours_Deau = union_all(liste_poly_valide_Cent_Cours_Deau)\n",
    "    Union_Cent_Cours_Deau_Aire = Union_Cent_Cours_Deau.area\n",
    "    dico_Cent_Aire[\"Aire_\"+liste_cours_deau[i]]=Union_Cent_Cours_Deau_Aire\n",
    "    \n",
    "    Data_Mill_Cours_Deau = Data_Mill.loc[Data_Mill['cours_deau']==liste_cours_deau[i],].copy()\n",
    "    liste_poly_valide_Mill_Cours_Deau = list(map(polygon_valid,Data_Mill_Cours_Deau[\"geometry\"]))\n",
    "    Union_Mill_Cours_Deau = union_all(liste_poly_valide_Mill_Cours_Deau)\n",
    "    Union_Mill_Cours_Deau_Aire = Union_Mill_Cours_Deau.area\n",
    "    dico_Mill_Aire[\"Aire_\"+liste_cours_deau[i]]=Union_Mill_Cours_Deau_Aire\n",
    "    \n",
    "    \n",
    "    dico_Ratio_Mill_Dec[\"Aire_\"+liste_cours_deau[i]]=dico_Mill_Aire[\"Aire_\"+liste_cours_deau[i]]/dico_Dec_Aire[\"Aire_\"+liste_cours_deau[i]]\n",
    "    dico_Ratio_Mill_Cent[\"Aire_\"+liste_cours_deau[i]]=dico_Mill_Aire[\"Aire_\"+liste_cours_deau[i]]/dico_Cent_Aire[\"Aire_\"+liste_cours_deau[i]]"
   ]
  },
  {
   "cell_type": "code",
   "execution_count": null,
   "id": "dab98ea9",
   "metadata": {},
   "outputs": [],
   "source": [
    "Ratio_Mill_Cent = np.array(list(dico_Ratio_Mill_Cent.values())).mean()"
   ]
  },
  {
   "cell_type": "code",
   "execution_count": null,
   "id": "0d842729",
   "metadata": {},
   "outputs": [],
   "source": [
    "Ratio_Mill_Dec = np.array(list(dico_Ratio_Mill_Dec.values())).mean()"
   ]
  },
  {
   "cell_type": "code",
   "execution_count": null,
   "id": "c0eb8624",
   "metadata": {},
   "outputs": [],
   "source": [
    "Ratio_Mill_Cent"
   ]
  },
  {
   "cell_type": "code",
   "execution_count": null,
   "id": "ae3458b9",
   "metadata": {},
   "outputs": [],
   "source": [
    "Ratio_Mill_Dec"
   ]
  },
  {
   "cell_type": "markdown",
   "id": "04306146",
   "metadata": {},
   "source": [
    "À présent, à l'aide des rapports calculés précédemment on va pouvoir réduire l'aire des polygones des EAIP selon les rapports des aires calculés précédemment pour en déduire les aires des polygones des scénarios centennal et décennal. Cette transformation géométrique qui permet de réduire le polygon de l'EAIP est ce qu'on appelle une homotétie."
   ]
  },
  {
   "cell_type": "markdown",
   "id": "59bdf063",
   "metadata": {},
   "source": [
    "# On va appliquer une homotétie non pas aux multipolygones des EAIP mais aux polygones uniques qui composent chaque multipolygone."
   ]
  },
  {
   "cell_type": "markdown",
   "id": "92b70757",
   "metadata": {},
   "source": [
    "## On va créer un dataframe contenant contenant un polygone par ligne plutôt que un multipolygone par ligne."
   ]
  },
  {
   "cell_type": "code",
   "execution_count": null,
   "id": "58040234",
   "metadata": {},
   "outputs": [],
   "source": [
    "def new_geodataframe(NOM_M,geometry):\n",
    "    if type(geometry)==Polygon:\n",
    "        return gpd.GeoDataFrame(pd.DataFrame({'NOM_M':[NOM_M],'geometry':geometry}),geometry='geometry')\n",
    "    else:\n",
    "        return gpd.GeoDataFrame(pd.DataFrame({'NOM_M':[NOM_M]*len(geometry.geoms),'geometry':list(geometry.geoms)}),geometry='geometry')"
   ]
  },
  {
   "cell_type": "code",
   "execution_count": null,
   "id": "7fa1467e",
   "metadata": {},
   "outputs": [],
   "source": [
    "liste_dataframe = list(map(new_geodataframe,list(EAIP_Dep['NOM_M']),list(EAIP_Dep['geometry'])))"
   ]
  },
  {
   "cell_type": "code",
   "execution_count": null,
   "id": "a7170a36",
   "metadata": {},
   "outputs": [],
   "source": [
    "EAIP_Dep_Polygons_Mill = pd.concat(liste_dataframe)\n",
    "EAIP_Dep_Polygons_Mill['index'] = list(range(len(EAIP_Dep_Polygons_Mill)))\n",
    "EAIP_Dep_Polygons_Mill.set_index('index', inplace = True)"
   ]
  },
  {
   "cell_type": "markdown",
   "id": "86c29e47",
   "metadata": {},
   "source": [
    "## On copie ce dataframe 2 fois. Ces 2 nouveaux dataframes serviront pour l'application de l'homotétie afin d'en déduire les scénarios centennal et décennal."
   ]
  },
  {
   "cell_type": "code",
   "execution_count": null,
   "id": "b9399aa4",
   "metadata": {},
   "outputs": [],
   "source": [
    "EAIP_Dep_Polygons_Cent = EAIP_Dep_Polygons_Mill.copy()\n",
    "EAIP_Dep_Polygons_Cent['index'] = list(range(len(EAIP_Dep_Polygons_Cent)))\n",
    "EAIP_Dep_Polygons_Cent.set_index('index', inplace = True)\n",
    "\n",
    "EAIP_Dep_Polygons_Dec = EAIP_Dep_Polygons_Mill.copy()\n",
    "EAIP_Dep_Polygons_Dec['index'] = list(range(len(EAIP_Dep_Polygons_Dec)))\n",
    "EAIP_Dep_Polygons_Dec.set_index(\"index\", inplace = True)"
   ]
  },
  {
   "cell_type": "markdown",
   "id": "2b098dad",
   "metadata": {},
   "source": [
    "## Voici les fonctions qui permettront d'appliquer les homotéties aux polygones du scénario millénal pour en déduire les polygones des scénarios centennal et décennal."
   ]
  },
  {
   "cell_type": "code",
   "execution_count": null,
   "id": "deb04c48",
   "metadata": {},
   "outputs": [],
   "source": [
    "def centennal(poly):\n",
    "    return affinity.scale(poly, xfact=1/math.sqrt(Ratio_Mill_Cent), yfact=1/math.sqrt(Ratio_Mill_Cent), origin='centroid')\n",
    "\n",
    "def decennal(poly):\n",
    "    return affinity.scale(poly, xfact=1/math.sqrt(Ratio_Mill_Dec), yfact=1/math.sqrt(Ratio_Mill_Dec), origin='centroid')"
   ]
  },
  {
   "cell_type": "code",
   "execution_count": null,
   "id": "2915b3ad",
   "metadata": {},
   "outputs": [],
   "source": [
    "EAIP_Dep_Polygons_Cent['geometry'] = gpd.GeoSeries(list(map(centennal,EAIP_Dep_Polygons_Cent['geometry'])), crs=\"EPSG:4326\")\n",
    "EAIP_Dep_Polygons_Dec['geometry'] = gpd.GeoSeries(list(map(decennal,EAIP_Dep_Polygons_Dec['geometry'])), crs=\"EPSG:4326\")"
   ]
  },
  {
   "cell_type": "code",
   "execution_count": null,
   "id": "c65d2df4",
   "metadata": {},
   "outputs": [],
   "source": [
    "EAIP_Dep_Polygons_Dec.head()"
   ]
  },
  {
   "cell_type": "code",
   "execution_count": null,
   "id": "ee9ac055",
   "metadata": {},
   "outputs": [],
   "source": [
    "EAIP_Dep_Polygons_Cent.head()"
   ]
  },
  {
   "cell_type": "code",
   "execution_count": null,
   "id": "166ff18d",
   "metadata": {},
   "outputs": [],
   "source": [
    "EAIP_Dep_Polygons_Mill.head()"
   ]
  },
  {
   "cell_type": "code",
   "execution_count": null,
   "id": "37a246b0",
   "metadata": {},
   "outputs": [],
   "source": [
    "# On exporte le data frame EAIP_Dep_Polygons_Mill au format .json\n",
    "EAIP_Dep_Polygons_Mill.to_file('EAIP_Dep_Polygons_Mill.json', driver=\"GeoJSON\")\n",
    "\n",
    "# On exporte le data frame EAIP_Dep_Polygons_Cent au format .json\n",
    "EAIP_Dep_Polygons_Cent.to_file('EAIP_Dep_Polygons_Cent.json', driver=\"GeoJSON\")\n",
    "\n",
    "# On exporte le data frame EAIP_Dep_Polygons_Dec au format .json\n",
    "EAIP_Dep_Polygons_Dec.to_file('EAIP_Dep_Polygons_Dec.json', driver=\"GeoJSON\")"
   ]
  },
  {
   "cell_type": "markdown",
   "id": "6edf70b5",
   "metadata": {},
   "source": [
    "## Affichage des EAIP selon les différents niveaux de scénarios créés précedemment"
   ]
  },
  {
   "cell_type": "code",
   "execution_count": null,
   "id": "ced0c7be",
   "metadata": {},
   "outputs": [],
   "source": [
    "import folium # version 0.14.0\n",
    "\n",
    "m = folium.Map(location=[list(Data_Dec.loc[[0],\"geometry\"][0].centroid.coords)[0][1], list(Data_Dec.loc[[0],\"geometry\"][0].centroid.coords)[0][0]], tiles=\"Stamen Terrain\", zoom_start=12) # Le paramère \"location\" permet de\n",
    "                                                                                   # préciser les coordonnées GPS du\n",
    "                                                                                   # centre de la carte à afficher\n",
    "\n",
    "# Data_ISO_gdf_Dec Data_ISO_gdf_Cent Data_ISO_gdf_Mill\n",
    "\n",
    "c_10_bordersStyle = {\n",
    "    'color': 'black',\n",
    "    'weight': 1,\n",
    "    'fillColor': '#EFF3FF',\n",
    "    'fillOpacity': 0.7\n",
    "}\n",
    "\n",
    "c_10 = folium.GeoJson(\n",
    "    data=(open(\"Data_Dec.json\", 'r').read()),\n",
    "    name=\"TRI (Scénario Décénnal)\",\n",
    "    style_function=lambda x: c_10_bordersStyle)\n",
    "\n",
    "c_10.add_to(m)\n",
    "\n",
    "\n",
    "\n",
    "c_100_bordersStyle = {\n",
    "    'color': 'black',\n",
    "    'weight': 1,\n",
    "    'fillColor': '#6AAED4',\n",
    "    'fillOpacity': 0.7\n",
    "}\n",
    "\n",
    "c_100 = folium.GeoJson(\n",
    "    data=(open(\"Data_Cent.json\", 'r').read()),\n",
    "    name=\"TRI (Scénario Centennal)\",\n",
    "    style_function=lambda x: c_100_bordersStyle)\n",
    "\n",
    "c_100.add_to(m)\n",
    "\n",
    "\n",
    "\n",
    "c_1000_bordersStyle = {\n",
    "    'color': 'black',\n",
    "    'weight': 1,\n",
    "    'fillColor': '#06519A',\n",
    "    'fillOpacity': 0.7\n",
    "}\n",
    "\n",
    "c_1000 = folium.GeoJson(\n",
    "    data=(open(\"Data_Mill.json\", 'r').read()),\n",
    "    name=\"TRI (Scénario Millénal)\",\n",
    "    style_function=lambda x: c_1000_bordersStyle)\n",
    "\n",
    "c_1000.add_to(m)\n",
    "\n",
    "\n",
    "\n",
    "c_EAIP_bordersStyle = {\n",
    "    'color': 'black',\n",
    "    'weight': 1,\n",
    "    'fillColor': '#BB0B0B',\n",
    "    'fillOpacity': 0.7\n",
    "}\n",
    "\n",
    "c_EAIP = folium.GeoJson(\n",
    "    data=(open(\"EAIP_Dep_Polygons_Mill.json\", 'r').read()),\n",
    "    name=\"EAIP (Scénario Millénal)\",\n",
    "    style_function=lambda x: c_EAIP_bordersStyle)\n",
    "\n",
    "c_EAIP.add_to(m)\n",
    "\n",
    "\n",
    "\n",
    "\n",
    "c_EAIP_Cent_bordersStyle = {\n",
    "    'color': 'black',\n",
    "    'weight': 1,\n",
    "    'fillColor': '#ff8383',\n",
    "    'fillOpacity': 0.7\n",
    "}\n",
    "\n",
    "c_EAIP_Cent = folium.GeoJson(\n",
    "    data=(open(\"EAIP_Dep_Polygons_Cent.json\", 'r').read()),\n",
    "    name=\"EAIP (Scénario Centennal)\",\n",
    "    style_function=lambda x: c_EAIP_Cent_bordersStyle)\n",
    "\n",
    "c_EAIP_Cent.add_to(m)\n",
    "\n",
    "\n",
    "\n",
    "\n",
    "c_EAIP_Dec_bordersStyle = {\n",
    "    'color': 'black',\n",
    "    'weight': 1,\n",
    "    'fillColor': '#ffdcdc',\n",
    "    'fillOpacity': 0.7\n",
    "}\n",
    "\n",
    "c_EAIP_Dec = folium.GeoJson(\n",
    "    data=(open(\"EAIP_Dep_Polygons_Dec.json\", 'r').read()),\n",
    "    name=\"EAIP (Scénario Décennal)\",\n",
    "    style_function=lambda x: c_EAIP_Dec_bordersStyle)\n",
    "\n",
    "c_EAIP_Dec.add_to(m)\n",
    "\n",
    "\n",
    "\n",
    "# Les 3 lignes suivantes (folium.GeoJsonTooltip) ne fonctionnent pas pour des formes géométriques\n",
    "# du type 'GeometryCollection'. C'est pourquoi elles sont mises en commentaires. Sinon il y a des erreures\n",
    "# d'affichage de la carte.\n",
    "# Par contre si on charche à afficher des polygones dont le type est différent de 'GeometryCollection'\n",
    "# alors là on peut les utiliser pour enrichir la carte.\n",
    "\n",
    "\n",
    "\n",
    "\n",
    "'''# and finally adding a tooltip/hover to the geojson file\n",
    "folium.GeoJsonTooltip(['ht_min', 'ht_max', 'uuid', 'cours_deau']).add_to(c_10)\n",
    "\n",
    "# and finally adding a tooltip/hover to the geojson file\n",
    "folium.GeoJsonTooltip(['ht_min', 'ht_max', 'uuid', 'cours_deau']).add_to(c_100)\n",
    "\n",
    "# and finally adding a tooltip/hover to the geojson file\n",
    "folium.GeoJsonTooltip(['ht_min', 'ht_max', 'uuid', 'cours_deau']).add_to(c_1000)\n",
    "'''\n",
    "\n",
    "\n",
    "\n",
    "# and finally adding a tooltip/hover to the geojson file\n",
    "folium.GeoJsonTooltip(['NOM_M']).add_to(c_EAIP)\n",
    "\n",
    "# and finally adding a tooltip/hover to the geojson file\n",
    "folium.GeoJsonTooltip(['NOM_M']).add_to(c_EAIP_Cent)\n",
    "\n",
    "# and finally adding a tooltip/hover to the geojson file\n",
    "folium.GeoJsonTooltip(['NOM_M']).add_to(c_EAIP_Dec)\n",
    "\n",
    "\n",
    "\n",
    "folium.LayerControl().add_to(m)"
   ]
  },
  {
   "cell_type": "code",
   "execution_count": null,
   "id": "8398e61f",
   "metadata": {},
   "outputs": [],
   "source": [
    "# Ici, on a mis cette partie en commentaires car sinon l'affichage de la carte dans le notebook était trop lourde\n",
    "# et le notebook plantait. Néanmoins, la ligne suivante qui consiste à exporter la carte au format html fonctionne\n",
    "# parfaitement.\n",
    "\n",
    "\n",
    "\n",
    "\n",
    "'''# Voir le site https://towardsdatascience.com/how-to-step-up-your-folium-choropleth-map-skills-17cf6de7c6fe\n",
    "# pour des explications sur cette partie avec du code HTML\n",
    "\n",
    "# We import the required library:\n",
    "from branca.element import Template, MacroElement # branca: version 0.6.0\n",
    "\n",
    "template = \"\"\"\n",
    "{% macro html(this, kwargs) %}\n",
    "\n",
    "<!doctype html>\n",
    "<html lang=\"en\">\n",
    "<head>\n",
    "  <meta charset=\"utf-8\">\n",
    "  <meta name=\"viewport\" content=\"width=device-width, initial-scale=1\">\n",
    "  <title>jQuery UI Draggable - Default functionality</title>\n",
    "  <link rel=\"stylesheet\" href=\"//code.jquery.com/ui/1.12.1/themes/base/jquery-ui.css\">\n",
    "\n",
    "  <script src=\"https://code.jquery.com/jquery-1.12.4.js\"></script>\n",
    "  <script src=\"https://code.jquery.com/ui/1.12.1/jquery-ui.js\"></script>\n",
    "  \n",
    "  <script>\n",
    "  $( function() {\n",
    "    $( \"#maplegend\" ).draggable({\n",
    "                    start: function (event, ui) {\n",
    "                        $(this).css({\n",
    "                            right: \"auto\",\n",
    "                            top: \"auto\",\n",
    "                            bottom: \"auto\"\n",
    "                        });\n",
    "                    }\n",
    "                });\n",
    "});\n",
    "\n",
    "  </script>\n",
    "</head>\n",
    "<body>\n",
    "\n",
    " \n",
    "<div id='maplegend' class='maplegend' \n",
    "    style='position: absolute; z-index:9999; border:2px solid grey; background-color:rgba(255, 255, 255, 0.8);\n",
    "     border-radius:6px; padding: 10px; font-size:14px; right: 20px; bottom: 20px;'>\n",
    "     \n",
    "<div class='legend-title'>Périodes de retour</div>\n",
    "<div class='legend-scale'>\n",
    "  <ul class='legend-labels'>\n",
    "    <li><span style='background:#06519A;opacity:1;'></span>1000 ans (TRI)</li>\n",
    "    <li><span style='background:#6AAED4;opacity:1;'></span>100 ans (TRI)</li>\n",
    "    <li><span style='background:#EFF3FF;opacity:1;'></span>10 ans (TRI)</li>\n",
    "    <li><span style='background:#BB0B0B;opacity:1;'></span>1000 ans (EAIP)</li>\n",
    "    <li><span style='background:#ff8383;opacity:1;'></span>100 ans (EAIP)</li>\n",
    "    <li><span style='background:#ffdcdc;opacity:1;'></span>10 ans (EAIP)</li>\n",
    "  </ul>\n",
    "</div>\n",
    "</div>\n",
    "\n",
    "</body>\n",
    "</html>\n",
    "\n",
    "<style type='text/css'>\n",
    "  .maplegend .legend-title {\n",
    "    text-align: left;\n",
    "    margin-bottom: 5px;\n",
    "    font-weight: bold;\n",
    "    font-size: 90%;\n",
    "    }\n",
    "  .maplegend .legend-scale ul {\n",
    "    margin: 0;\n",
    "    margin-bottom: 5px;\n",
    "    padding: 0;\n",
    "    float: left;\n",
    "    list-style: none;\n",
    "    }\n",
    "  .maplegend .legend-scale ul li {\n",
    "    font-size: 80%;\n",
    "    list-style: none;\n",
    "    margin-left: 0;\n",
    "    line-height: 18px;\n",
    "    margin-bottom: 2px;\n",
    "    }\n",
    "  .maplegend ul.legend-labels li span {\n",
    "    display: block;\n",
    "    float: left;\n",
    "    height: 16px;\n",
    "    width: 30px;\n",
    "    margin-right: 5px;\n",
    "    margin-left: 0;\n",
    "    border: 1px solid #999;\n",
    "    }\n",
    "  .maplegend .legend-source {\n",
    "    font-size: 80%;\n",
    "    color: #777;\n",
    "    clear: both;\n",
    "    }\n",
    "  .maplegend a {\n",
    "    color: #777;\n",
    "    }\n",
    "</style>\n",
    "\n",
    "{% endmacro %}\"\"\"\n",
    "\n",
    "macro = MacroElement()\n",
    "macro._template = Template(template)\n",
    "\n",
    "m.get_root().add_child(macro)\n",
    "\n",
    "m'''"
   ]
  },
  {
   "cell_type": "code",
   "execution_count": null,
   "id": "3752a16a",
   "metadata": {},
   "outputs": [],
   "source": [
    "# Exporting the map in HTML format\n",
    "nom = \"Carte_Inondations_\"+nom_departement+\"_Geojson_EAIP_Scenarios_Projettes.html\"\n",
    "m.save(nom)"
   ]
  },
  {
   "cell_type": "markdown",
   "id": "f9546d82",
   "metadata": {},
   "source": [
    "# Quelques liens utiles"
   ]
  },
  {
   "cell_type": "code",
   "execution_count": null,
   "id": "57d8b56a",
   "metadata": {},
   "outputs": [],
   "source": [
    "# Voir ce lien à propos des polygones qui ne sont pas valides:\n",
    "\n",
    "# https://stackoverflow.com/questions/20833344/fix-invalid-polygon-in-shapely"
   ]
  },
  {
   "cell_type": "code",
   "execution_count": null,
   "id": "188ecbb3",
   "metadata": {},
   "outputs": [],
   "source": [
    "# Voir ce lien pour transformer des polygones non valides en des polygones valides grâce à l'instruction make_valid():\n",
    "\n",
    "# https://shapely.readthedocs.io/en/latest/manual.html#validation.make_valid"
   ]
  },
  {
   "cell_type": "code",
   "execution_count": null,
   "id": "04f57fd0",
   "metadata": {},
   "outputs": [],
   "source": [
    "# Voir ce lien pour extraire les polygones d'un multipolygone grâce à l'instruction list(multipolygon.geoms):\n",
    "\n",
    "# https://stackoverflow.com/questions/38930192/how-to-extract-polygons-from-multipolygons-in-shapely"
   ]
  },
  {
   "cell_type": "code",
   "execution_count": null,
   "id": "ec0b7828",
   "metadata": {},
   "outputs": [],
   "source": [
    "# voir ce lien pour vérifier le type de polygone ('Polygon' or 'MultiPolygon') grâce à l'instruction .geom_type:\n",
    "\n",
    "# https://stackoverflow.com/questions/39142876/check-if-a-polygon-is-a-multipolygon-in-shapely"
   ]
  },
  {
   "cell_type": "code",
   "execution_count": null,
   "id": "552ed563",
   "metadata": {},
   "outputs": [],
   "source": [
    "# voir ce lien pour vérifier le type de polygone ('Polygon' or 'MultiPolygon') grâce à l'instruction .geom_type:\n",
    "\n",
    "# https://shapely.readthedocs.io/en/stable/manual.html#general-attributes-and-methods"
   ]
  },
  {
   "cell_type": "code",
   "execution_count": null,
   "id": "e6d5e048",
   "metadata": {},
   "outputs": [],
   "source": [
    "# Transformer un polygone non valide en un multipolygone valide grâce à l'instruction .make_valid:\n",
    "\n",
    "# https://shapely.readthedocs.io/en/latest/manual.html#validation.make_valid"
   ]
  },
  {
   "cell_type": "code",
   "execution_count": null,
   "id": "8fd2ee45",
   "metadata": {},
   "outputs": [],
   "source": [
    "# Vérifier si un polygone est valide grâce à l'instruction .is_valid:\n",
    "\n",
    "# https://stackoverflow.com/questions/20833344/fix-invalid-polygon-in-shapely\n",
    "# https://shapely.readthedocs.io/en/latest/reference/shapely.is_valid.html?highlight=is_valid\n",
    "# https://shapely.readthedocs.io/en/latest/manual.html#unary-predicates"
   ]
  },
  {
   "cell_type": "code",
   "execution_count": null,
   "id": "9a190455",
   "metadata": {},
   "outputs": [],
   "source": [
    "# https://stackoverflow.com/questions/50788508/how-can-i-replicate-rows-of-a-pandas-dataframe"
   ]
  },
  {
   "cell_type": "code",
   "execution_count": null,
   "id": "88ef1091",
   "metadata": {},
   "outputs": [],
   "source": [
    "# https://gis.stackexchange.com/questions/162659/joining-concat-list-of-similar-dataframes-in-geopandas"
   ]
  },
  {
   "cell_type": "code",
   "execution_count": null,
   "id": "50c6a5e8",
   "metadata": {},
   "outputs": [],
   "source": [
    "# Voir le site : https://stackoverflow.com/questions/41449084/shapelys-scale-function-in-geopandas-returns-points-of-similar-magnitude\n",
    "\n",
    "# En fait, la fonction .scale de geopandas/geoseries peu s'appliquer à l'ensemble d'une liste entière de type GeoSeries"
   ]
  },
  {
   "cell_type": "code",
   "execution_count": null,
   "id": "c1a6022f",
   "metadata": {},
   "outputs": [],
   "source": [
    "# Voir ce lien pour utiliser la fonction .scale de geopandas pour pouvoir agrandir ou réduire un polygone.\n",
    "\n",
    "# https://geopandas.org/en/stable/docs/reference/api/geopandas.GeoSeries.scale.html"
   ]
  },
  {
   "cell_type": "code",
   "execution_count": null,
   "id": "0e17c50c",
   "metadata": {},
   "outputs": [],
   "source": [
    "# https://stackoverflow.com/questions/49558464/shrink-polygon-using-corner-coordinates"
   ]
  },
  {
   "cell_type": "code",
   "execution_count": null,
   "id": "a5dbc210",
   "metadata": {},
   "outputs": [],
   "source": [
    "# https://stackoverflow.com/questions/20230481/shrink-polygon-to-a-specific-area-by-offsetting"
   ]
  },
  {
   "cell_type": "code",
   "execution_count": null,
   "id": "658fdaf5",
   "metadata": {},
   "outputs": [],
   "source": [
    "# LIENS POUR AFFICHER UNE CARTE À L'AIDE DE FOLIUM ET GEOJSON:\n",
    "\n",
    "# Ce lien est particulièrement important:\n",
    "# https://nagasudhir.blogspot.com/2021/07/draw-borders-from-geojson-paths-in.html\n",
    "\n",
    "# https://www.youtube.com/watch?v=h16O4xt6yBU\n",
    "\n",
    "\n",
    "\n",
    "# AUTRE LIEN UTILE, INTERACTIVE MAP WITH LAYERS SELECTION:\n",
    "\n",
    "# https://kodu.ut.ee/~kmoch/geopython2019/L6/interactive-map-folium.html\n",
    "\n",
    "# Parametres qu'on peut mettre dans la fonction \"style_function\"\n",
    "# https://leafletjs.com/reference.html#path-option\n",
    "\n",
    "\n",
    "\n",
    "# https://stackoverflow.com/questions/55088688/how-do-you-add-geojsontooltip-to-folium-choropleth-class-in-folium\n",
    "\n",
    "\n",
    "# tooltip=folium.features.Tooltip(fields=['feature.properties.county_name'])\n",
    "\n",
    "\n",
    "\n",
    "# https://automating-gis-processes.github.io/CSC18/lessons/L4/point-in-polygon.html#reading-kml-files-in-geopandas\n",
    "\n",
    "\n",
    "\n",
    "\n",
    "# Voir le site https://towardsdatascience.com/how-to-step-up-your-folium-choropleth-map-skills-17cf6de7c6fe\n",
    "# pour des explications sur la \"draggable legend\" et bien d'autres choses avec du code HTML"
   ]
  },
  {
   "cell_type": "code",
   "execution_count": null,
   "id": "688bd4cc",
   "metadata": {},
   "outputs": [],
   "source": []
  },
  {
   "cell_type": "code",
   "execution_count": null,
   "id": "99f324e2",
   "metadata": {},
   "outputs": [],
   "source": []
  },
  {
   "cell_type": "code",
   "execution_count": null,
   "id": "57dc120a",
   "metadata": {},
   "outputs": [],
   "source": []
  },
  {
   "cell_type": "code",
   "execution_count": null,
   "id": "03ee73b5",
   "metadata": {},
   "outputs": [],
   "source": []
  },
  {
   "cell_type": "code",
   "execution_count": null,
   "id": "61e2e82f",
   "metadata": {},
   "outputs": [],
   "source": []
  },
  {
   "cell_type": "code",
   "execution_count": null,
   "id": "14d796d8",
   "metadata": {},
   "outputs": [],
   "source": []
  }
 ],
 "metadata": {
  "kernelspec": {
   "display_name": "Python 3 (ipykernel)",
   "language": "python",
   "name": "python3"
  },
  "language_info": {
   "codemirror_mode": {
    "name": "ipython",
    "version": 3
   },
   "file_extension": ".py",
   "mimetype": "text/x-python",
   "name": "python",
   "nbconvert_exporter": "python",
   "pygments_lexer": "ipython3",
   "version": "3.9.13"
  },
  "toc": {
   "base_numbering": 1,
   "nav_menu": {},
   "number_sections": true,
   "sideBar": true,
   "skip_h1_title": false,
   "title_cell": "Table of Contents",
   "title_sidebar": "Contents",
   "toc_cell": false,
   "toc_position": {},
   "toc_section_display": true,
   "toc_window_display": false
  }
 },
 "nbformat": 4,
 "nbformat_minor": 5
}
